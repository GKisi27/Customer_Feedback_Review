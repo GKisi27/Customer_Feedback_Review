{
 "cells": [
  {
   "cell_type": "code",
   "execution_count": 1,
   "metadata": {},
   "outputs": [],
   "source": [
    "import csv\n",
    "import pandas as pd"
   ]
  },
  {
   "cell_type": "code",
   "execution_count": 2,
   "metadata": {},
   "outputs": [],
   "source": [
    "#Words we don't need to search or count, like articles, conjunction, prepositions. Add words which we don't want to be searched and count.\n",
    "article_preposition_conjunction = [\"all\",\"my\",\"so\", \"that\", \"would\",\"this\",\"as\",\"it\", \"had\", \"our\", \"you\",\"i\", \"we\", \"they\", \"he\", \"she\", \"him\", \"them\", \"is\",\"was\", \"were\", \"a\", \"an\", \"the\", \"and\",\"of\", \"with\", \"at\", \"from\", \"into\", \"during\", \"including\", \"until\", \"against\", \"among\", \"throughout\", \"despite\", \"towards\", \"upon\", \"against\", \"among\", \"throughout\", \"despite\", \"towards\", \"upon\", \"concerning\", \"to\", \"in\", \"for\", \"on\", \"by\", \"about\", \"like\", \"through\", \"over\", \"before\", \"between\", \"after\", \"since\", \"without\", \"under\", \"within\", \"along\", \"following\", \"across\", \"behind\", \"beyond\", \"plus\", \"except\", \"but\", \"up\", \"out\", \"around\", \"down\", \"off\", \"above\", \"near\"]"
   ]
  },
  {
   "cell_type": "code",
   "execution_count": 3,
   "metadata": {},
   "outputs": [
    {
     "name": "stderr",
     "output_type": "stream",
     "text": [
      "C:\\Users\\Promech-PC-5\\Anaconda3\\lib\\site-packages\\IPython\\core\\interactiveshell.py:3057: DtypeWarning: Columns (2,4,5) have mixed types. Specify dtype option on import or set low_memory=False.\n",
      "  interactivity=interactivity, compiler=compiler, result=result)\n"
     ]
    }
   ],
   "source": [
    "#Reading file using pandas\n",
    "df = pd.read_csv(\"FeedbackData.csv\")\n",
    "#Igonoring null comments column.\n",
    "df_new = df[df['comments'].notnull()]\n",
    "reviews = df_new.comments"
   ]
  },
  {
   "cell_type": "code",
   "execution_count": 4,
   "metadata": {},
   "outputs": [],
   "source": [
    "#Removing unrequired words listed in above list i.e from article_preposition_conjunction. \n",
    "new_list = []\n",
    "for review in reviews:\n",
    "    beforeCleaning = review.lower().split()\n",
    "    cleaned_sentence  = [word for word in beforeCleaning if word.lower() not in article_preposition_conjunction]\n",
    "    result = ' '.join(cleaned_sentence)\n",
    "    new_list.append(result)\n",
    "\n",
    "\n",
    "            "
   ]
  },
  {
   "cell_type": "code",
   "execution_count": 5,
   "metadata": {},
   "outputs": [],
   "source": [
    "#Joining all the sentences from the above list.\n",
    "data = \" \".join(new_list)"
   ]
  },
  {
   "cell_type": "code",
   "execution_count": 6,
   "metadata": {},
   "outputs": [],
   "source": [
    "#function to count the repetition of each words.\n",
    "def word_count(str):\n",
    "    counts = dict()\n",
    "    words = str.split()\n",
    "\n",
    "    for word in words:\n",
    "        if word in counts:\n",
    "            counts[word] += 1\n",
    "        else:\n",
    "            counts[word] = 1\n",
    "\n",
    "    return counts"
   ]
  },
  {
   "cell_type": "code",
   "execution_count": 7,
   "metadata": {},
   "outputs": [],
   "source": [
    "#Calling the above function.\n",
    "count_dict = word_count(data)"
   ]
  },
  {
   "cell_type": "code",
   "execution_count": 8,
   "metadata": {},
   "outputs": [
    {
     "data": {
      "text/plain": [
       "{'great': 127026,\n",
       " 'very': 115022,\n",
       " 'place': 85856,\n",
       " 'stay': 76302,\n",
       " 'house': 47003,\n",
       " 'location': 43777,\n",
       " 'everything': 37283,\n",
       " 'austin': 36412,\n",
       " 'us': 35850,\n",
       " 'definitely': 35109}"
      ]
     },
     "execution_count": 8,
     "metadata": {},
     "output_type": "execute_result"
    }
   ],
   "source": [
    "#Getting the 10 most repeated words after sorting the above dictionary by highest value.\n",
    "{key: count_dict[key] for key in sorted(count_dict, key=count_dict.get, reverse=True)[:10]}"
   ]
  },
  {
   "cell_type": "code",
   "execution_count": null,
   "metadata": {},
   "outputs": [],
   "source": []
  }
 ],
 "metadata": {
  "kernelspec": {
   "display_name": "Python 3",
   "language": "python",
   "name": "python3"
  },
  "language_info": {
   "codemirror_mode": {
    "name": "ipython",
    "version": 3
   },
   "file_extension": ".py",
   "mimetype": "text/x-python",
   "name": "python",
   "nbconvert_exporter": "python",
   "pygments_lexer": "ipython3",
   "version": "3.7.3"
  }
 },
 "nbformat": 4,
 "nbformat_minor": 2
}
